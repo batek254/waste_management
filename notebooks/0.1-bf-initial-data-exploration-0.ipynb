{
 "cells": [
  {
   "cell_type": "code",
   "execution_count": 12,
   "metadata": {},
   "outputs": [
    {
     "name": "stderr",
     "output_type": "stream",
     "text": [
      "\u001b[32m2024-06-18 19:45:46.381\u001b[0m | \u001b[1mINFO    \u001b[0m | \u001b[36m__main__\u001b[0m:\u001b[36m<module>\u001b[0m:\u001b[36m6\u001b[0m - \u001b[1mFinding .env file\u001b[0m\n",
      "\u001b[32m2024-06-18 19:45:46.390\u001b[0m | \u001b[32m\u001b[1mSUCCESS \u001b[0m | \u001b[36m__main__\u001b[0m:\u001b[36m<module>\u001b[0m:\u001b[36m11\u001b[0m - \u001b[32m\u001b[1mLoaded .env file\u001b[0m\n",
      "\u001b[32m2024-06-18 19:45:46.393\u001b[0m | \u001b[1mINFO    \u001b[0m | \u001b[36m__main__\u001b[0m:\u001b[36m<module>\u001b[0m:\u001b[36m13\u001b[0m - \u001b[1mReading environment variables\u001b[0m\n",
      "\u001b[32m2024-06-18 19:45:46.398\u001b[0m | \u001b[32m\u001b[1mSUCCESS \u001b[0m | \u001b[36m__main__\u001b[0m:\u001b[36m<module>\u001b[0m:\u001b[36m15\u001b[0m - \u001b[32m\u001b[1mPROJECT_DIR: /home/batek254/waste_management\u001b[0m\n",
      "\u001b[32m2024-06-18 19:45:46.401\u001b[0m | \u001b[1mINFO    \u001b[0m | \u001b[36m__main__\u001b[0m:\u001b[36m<module>\u001b[0m:\u001b[36m21\u001b[0m - \u001b[1mListing files in the raw data folder\u001b[0m\n",
      "\u001b[32m2024-06-18 19:45:46.407\u001b[0m | \u001b[32m\u001b[1mSUCCESS \u001b[0m | \u001b[36m__main__\u001b[0m:\u001b[36m<module>\u001b[0m:\u001b[36m25\u001b[0m - \u001b[32m\u001b[1mFiles in folder /home/batek254/waste_management/data/raw:\u001b[0m\n",
      "\u001b[32m2024-06-18 19:45:46.410\u001b[0m | \u001b[1mINFO    \u001b[0m | \u001b[36m__main__\u001b[0m:\u001b[36m<module>\u001b[0m:\u001b[36m26\u001b[0m - \u001b[1m['trash', 'paper', '.gitkeep', 'cardboard', 'plastic', 'glass', 'metal']\u001b[0m\n"
     ]
    }
   ],
   "source": [
    "import os\n",
    "from dotenv import load_dotenv, find_dotenv\n",
    "from loguru import logger\n",
    "\n",
    "# find .env automagically by walking up directories until it's found\n",
    "logger.info(\"Finding .env file\")\n",
    "dotenv_path = find_dotenv()\n",
    "\n",
    "# load up the entries as environment variables\n",
    "load_dotenv(dotenv_path)\n",
    "logger.success(\"Loaded .env file\")\n",
    "\n",
    "logger.info(\"Reading environment variables\")\n",
    "project_dir = os.environ.get(\"PROJECT_DIR\")\n",
    "logger.success(f\"PROJECT_DIR: {project_dir}\")\n",
    "\n",
    "# Set up logging configuration\n",
    "#logger.add(\"logs.log\", rotation=\"500 MB\", level=\"INFO\")\n",
    "\n",
    "# Log the folder path and file names\n",
    "logger.info(\"Listing files in the raw data folder\")\n",
    "dataset_path = os.path.join(project_dir, 'data/raw')\n",
    "file_list = os.listdir(dataset_path)\n",
    "\n",
    "logger.success(f\"Files in folder {dataset_path}:\")\n",
    "logger.info([file_name for file_name in file_list])"
   ]
  },
  {
   "cell_type": "code",
   "execution_count": 16,
   "metadata": {},
   "outputs": [
    {
     "name": "stderr",
     "output_type": "stream",
     "text": [
      "\u001b[32m2024-06-18 19:49:20.272\u001b[0m | \u001b[1mINFO    \u001b[0m | \u001b[36m__main__\u001b[0m:\u001b[36m<module>\u001b[0m:\u001b[36m19\u001b[0m - \u001b[1mtrash folder contains 137 images.\u001b[0m\n",
      "\u001b[32m2024-06-18 19:49:20.569\u001b[0m | \u001b[1mINFO    \u001b[0m | \u001b[36m__main__\u001b[0m:\u001b[36m<module>\u001b[0m:\u001b[36m19\u001b[0m - \u001b[1mpaper folder contains 594 images.\u001b[0m\n",
      "\u001b[32m2024-06-18 19:49:21.654\u001b[0m | \u001b[1mINFO    \u001b[0m | \u001b[36m__main__\u001b[0m:\u001b[36m<module>\u001b[0m:\u001b[36m19\u001b[0m - \u001b[1mcardboard folder contains 403 images.\u001b[0m\n",
      "\u001b[32m2024-06-18 19:49:22.406\u001b[0m | \u001b[1mINFO    \u001b[0m | \u001b[36m__main__\u001b[0m:\u001b[36m<module>\u001b[0m:\u001b[36m19\u001b[0m - \u001b[1mplastic folder contains 482 images.\u001b[0m\n",
      "\u001b[32m2024-06-18 19:49:23.221\u001b[0m | \u001b[1mINFO    \u001b[0m | \u001b[36m__main__\u001b[0m:\u001b[36m<module>\u001b[0m:\u001b[36m19\u001b[0m - \u001b[1mglass folder contains 501 images.\u001b[0m\n",
      "\u001b[32m2024-06-18 19:49:24.060\u001b[0m | \u001b[1mINFO    \u001b[0m | \u001b[36m__main__\u001b[0m:\u001b[36m<module>\u001b[0m:\u001b[36m19\u001b[0m - \u001b[1mmetal folder contains 410 images.\u001b[0m\n",
      "\u001b[32m2024-06-18 19:49:24.767\u001b[0m | \u001b[32m\u001b[1mSUCCESS \u001b[0m | \u001b[36m__main__\u001b[0m:\u001b[36m<module>\u001b[0m:\u001b[36m33\u001b[0m - \u001b[32m\u001b[1m\n",
      "All images in the dataset have the same dimensions: 512x384 with 3 color channels.\u001b[0m\n"
     ]
    }
   ],
   "source": [
    "from PIL import Image\n",
    "\n",
    "# Retrieve the names of all folders (representing trash types) within the dataset directory\n",
    "garbage_types = os.listdir(dataset_path)\n",
    "\n",
    "# Set to store unique image dimensions for the entire dataset\n",
    "all_dimensions_set = set()\n",
    "\n",
    "# Iterate over each trash type (folder) to process images\n",
    "for garbage_type in garbage_types:\n",
    "    folder_path = os.path.join(dataset_path, garbage_type)\n",
    "    \n",
    "    # Verify that the current item is a directory\n",
    "    if os.path.isdir(folder_path):\n",
    "        image_files = [f for f in os.listdir(folder_path) if f.endswith(('jpg', 'jpeg'))]\n",
    "        \n",
    "        # Display the count of images in the current folder\n",
    "        num_images = len(image_files)\n",
    "        logger.info(f\"{garbage_type} folder contains {num_images} images.\")\n",
    "        \n",
    "        # Loop over each image to check its dimensions\n",
    "        for image_file in image_files:\n",
    "            image_path = os.path.join(folder_path, image_file)\n",
    "            with Image.open(image_path) as img:\n",
    "                # Extract the width, height, and channels (color depth) of the image and add to the dimensions set\n",
    "                width, height = img.size\n",
    "                channels = len(img.getbands())\n",
    "                all_dimensions_set.add((width, height, channels))\n",
    "                \n",
    "# Determine if all images in the entore dataset have the same dimensions \n",
    "if len(all_dimensions_set) == 1: \n",
    "    width, height, channel = all_dimensions_set.pop()\n",
    "    logger.success(f\"\\nAll images in the dataset have the same dimensions: {width}x{height} with {channels} color channels.\")\n",
    "else:\n",
    "    logger.error(\"\\nThe images in the dataset have different dimensions or color channels.\")\n"
   ]
  },
  {
   "cell_type": "code",
   "execution_count": null,
   "metadata": {},
   "outputs": [],
   "source": []
  }
 ],
 "metadata": {
  "kernelspec": {
   "display_name": "base",
   "language": "python",
   "name": "python3"
  },
  "language_info": {
   "codemirror_mode": {
    "name": "ipython",
    "version": 3
   },
   "file_extension": ".py",
   "mimetype": "text/x-python",
   "name": "python",
   "nbconvert_exporter": "python",
   "pygments_lexer": "ipython3",
   "version": "3.12.4"
  }
 },
 "nbformat": 4,
 "nbformat_minor": 2
}
