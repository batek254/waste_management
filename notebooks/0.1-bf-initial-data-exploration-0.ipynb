{
 "cells": [
  {
   "cell_type": "code",
   "execution_count": 9,
   "metadata": {},
   "outputs": [
    {
     "name": "stderr",
     "output_type": "stream",
     "text": [
      "\u001b[32m2024-06-18 19:29:29.960\u001b[0m | \u001b[1mINFO    \u001b[0m | \u001b[36m__main__\u001b[0m:\u001b[36m<module>\u001b[0m:\u001b[36m6\u001b[0m - \u001b[1mFinding .env file\u001b[0m\n",
      "\u001b[32m2024-06-18 19:29:29.969\u001b[0m | \u001b[32m\u001b[1mSUCCESS \u001b[0m | \u001b[36m__main__\u001b[0m:\u001b[36m<module>\u001b[0m:\u001b[36m11\u001b[0m - \u001b[32m\u001b[1mLoaded .env file\u001b[0m\n",
      "\u001b[32m2024-06-18 19:29:29.972\u001b[0m | \u001b[1mINFO    \u001b[0m | \u001b[36m__main__\u001b[0m:\u001b[36m<module>\u001b[0m:\u001b[36m13\u001b[0m - \u001b[1mReading environment variables\u001b[0m\n",
      "\u001b[32m2024-06-18 19:29:29.977\u001b[0m | \u001b[32m\u001b[1mSUCCESS \u001b[0m | \u001b[36m__main__\u001b[0m:\u001b[36m<module>\u001b[0m:\u001b[36m15\u001b[0m - \u001b[32m\u001b[1mPROJECT_DIR: /home/batek254/waste_management\u001b[0m\n",
      "\u001b[32m2024-06-18 19:29:29.981\u001b[0m | \u001b[1mINFO    \u001b[0m | \u001b[36m__main__\u001b[0m:\u001b[36m<module>\u001b[0m:\u001b[36m21\u001b[0m - \u001b[1mListing files in the raw data folder\u001b[0m\n",
      "\u001b[32m2024-06-18 19:29:29.988\u001b[0m | \u001b[32m\u001b[1mSUCCESS \u001b[0m | \u001b[36m__main__\u001b[0m:\u001b[36m<module>\u001b[0m:\u001b[36m25\u001b[0m - \u001b[32m\u001b[1mFiles in folder data/raw:\u001b[0m\n",
      "\u001b[32m2024-06-18 19:29:29.991\u001b[0m | \u001b[1mINFO    \u001b[0m | \u001b[36m__main__\u001b[0m:\u001b[36m<module>\u001b[0m:\u001b[36m26\u001b[0m - \u001b[1m['trash', 'paper', '.gitkeep', 'cardboard', 'plastic', 'glass', 'metal']\u001b[0m\n"
     ]
    }
   ],
   "source": [
    "import os\n",
    "from dotenv import load_dotenv, find_dotenv\n",
    "from loguru import logger\n",
    "\n",
    "# find .env automagically by walking up directories until it's found\n",
    "logger.info(\"Finding .env file\")\n",
    "dotenv_path = find_dotenv()\n",
    "\n",
    "# load up the entries as environment variables\n",
    "load_dotenv(dotenv_path)\n",
    "logger.success(\"Loaded .env file\")\n",
    "\n",
    "logger.info(\"Reading environment variables\")\n",
    "project_dir = os.environ.get(\"PROJECT_DIR\")\n",
    "logger.success(f\"PROJECT_DIR: {project_dir}\")\n",
    "\n",
    "# Set up logging configuration\n",
    "#logger.add(\"logs.log\", rotation=\"500 MB\", level=\"INFO\")\n",
    "\n",
    "# Log the folder path and file names\n",
    "logger.info(\"Listing files in the raw data folder\")\n",
    "folder_path = 'data/raw'\n",
    "file_list = os.listdir(os.path.join(project_dir, folder_path))\n",
    "\n",
    "logger.success(f\"Files in folder {folder_path}:\")\n",
    "logger.info([file_name for file_name in file_list])"
   ]
  },
  {
   "cell_type": "code",
   "execution_count": null,
   "metadata": {},
   "outputs": [],
   "source": []
  }
 ],
 "metadata": {
  "kernelspec": {
   "display_name": "base",
   "language": "python",
   "name": "python3"
  },
  "language_info": {
   "codemirror_mode": {
    "name": "ipython",
    "version": 3
   },
   "file_extension": ".py",
   "mimetype": "text/x-python",
   "name": "python",
   "nbconvert_exporter": "python",
   "pygments_lexer": "ipython3",
   "version": "3.12.4"
  }
 },
 "nbformat": 4,
 "nbformat_minor": 2
}
